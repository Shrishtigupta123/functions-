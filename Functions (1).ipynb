{
  "nbformat": 4,
  "nbformat_minor": 0,
  "metadata": {
    "colab": {
      "provenance": []
    },
    "kernelspec": {
      "name": "python3",
      "display_name": "Python 3"
    },
    "language_info": {
      "name": "python"
    }
  },
  "cells": [
    {
      "cell_type": "markdown",
      "source": [
        "Question 1: What is the difference between a function and a method in python?\n",
        "In Python, both functions and methods are reusable blocks of code that perform specific tasks, but\n",
        "they differ in how they are used and where they are defined.\n",
        "\n",
        "\n",
        "1. Definition and Use\n",
        " Function: A function is a standalone block of code that is defined using the def keyword.It is independent of any class, meaning it’s not associated with any specific object or data structure. You\n",
        "can call a function directly by its name."
      ],
      "metadata": {
        "id": "ArOHyXo-BAqA"
      }
    },
    {
      "cell_type": "markdown",
      "source": [
        "Method: A method is a function that is defined within a class and is meant to operate on instances of\n",
        "that class. It is called on an object (or instance) of the class, and it can access the data (attributes) of\n",
        "the object through the self parameter.\n"
      ],
      "metadata": {
        "id": "leazX0R5B9sb"
      }
    },
    {
      "cell_type": "code",
      "source": [
        "class Greeter:\n",
        "\n",
        " def greet(self, name):\n",
        "\n",
        "  return f\"Hello, {name}!\"\n",
        "\n",
        "greeter = Greeter()\n",
        "\n",
        "print(greeter.greet(\"Alice\")) # Calling the method on an object\n"
      ],
      "metadata": {
        "colab": {
          "base_uri": "https://localhost:8080/"
        },
        "id": "mspx64XhCAZZ",
        "outputId": "40a48bd6-b9c9-45bd-9457-1b5b76ca26f9"
      },
      "execution_count": null,
      "outputs": [
        {
          "output_type": "stream",
          "name": "stdout",
          "text": [
            "Hello, Alice!\n"
          ]
        }
      ]
    },
    {
      "cell_type": "markdown",
      "source": [],
      "metadata": {
        "id": "tQdoZ12sCjku"
      }
    },
    {
      "cell_type": "code",
      "source": [
        "def greet(name):\n",
        "\n",
        " return f\"Hello, {name}!\"\n",
        "\n",
        "print(greet(\"Alice\")) # Calling the function directly\n"
      ],
      "metadata": {
        "colab": {
          "base_uri": "https://localhost:8080/"
        },
        "id": "rx94WOx5Bsgb",
        "outputId": "887ca254-51c7-4800-f433-e5374ae8cf56"
      },
      "execution_count": null,
      "outputs": [
        {
          "output_type": "stream",
          "name": "stdout",
          "text": [
            "Hello, Alice!\n"
          ]
        }
      ]
    },
    {
      "cell_type": "markdown",
      "source": [
        "functions                     Method\n",
        "1.Independent of classes    1.Within a class\n",
        "2.function_name(arguments)   2.object.method_name(arguments)\n",
        "3.Not bound to any object    3.Bound to the instance of the class it’s\n",
        "                              defined in\n",
        "4.General-purpose functionality     4.Functionality related to  \n",
        "                                     object’s data or behavior.\n",
        "\n",
        "\n",
        "\n",
        "\n",
        "\n",
        "\n",
        "\n",
        "\n",
        "\n",
        "\n",
        "   "
      ],
      "metadata": {
        "id": "MVbJ6QirCl40"
      }
    },
    {
      "cell_type": "code",
      "source": [
        "Question 2: Explain the concept of function arguments and parameters in python?\n",
        "\n",
        "1. Parameters:\n",
        " Parameters are the variable names listed in a function’s definition. They act as placeholders that\n",
        "allow you to pass data into the function.\n",
        " When you define a function, you specify parameters to indicate the kind of information the function\n",
        "expects to receive.\n",
        "Arguments:\n",
        " Arguments are the actual values you pass to the function when you call it. These values replace the\n",
        "parameters and are used within the function’s body.\n",
        "When calling a function, you provide arguments that correspond to the parameters in the function\n",
        "definition.\n",
        "\n"
      ],
      "metadata": {
        "id": "3u8Ma3zqEkIP"
      },
      "execution_count": null,
      "outputs": []
    },
    {
      "cell_type": "code",
      "source": [
        "def greet(name):  # Parameter\n",
        "\n",
        " return f\"Hello, {name}!\"\n"
      ],
      "metadata": {
        "id": "t0OMibdLE90N"
      },
      "execution_count": null,
      "outputs": []
    },
    {
      "cell_type": "code",
      "source": [
        "greet(\"Alice\") # \"Alice\" is an argument"
      ],
      "metadata": {
        "colab": {
          "base_uri": "https://localhost:8080/",
          "height": 36
        },
        "id": "Gb-Xe_KoFKeN",
        "outputId": "c02acd0d-cb94-4758-a5e6-f2bf095621a4"
      },
      "execution_count": null,
      "outputs": [
        {
          "output_type": "execute_result",
          "data": {
            "text/plain": [
              "'Hello, Alice!'"
            ],
            "application/vnd.google.colaboratory.intrinsic+json": {
              "type": "string"
            }
          },
          "metadata": {},
          "execution_count": 4
        }
      ]
    },
    {
      "cell_type": "markdown",
      "source": [
        "Question 3: What are the different ways to define and call a function in python?\n",
        "In Python, there are several ways to define and call functions, each useful in different scenarios. Let's go\n",
        "through the most common methods:\n"
      ],
      "metadata": {
        "id": "h9v6MsRpFdt9"
      }
    },
    {
      "cell_type": "code",
      "source": [
        "# 1. Standard Function Definition\n",
        "\n",
        "\n",
        "#Functions are typically defined using the def keyword, followed by a name, parameters, and a body.\n",
        "def greet(name):\n",
        "\n",
        " return f\"Hello, {name}!\"\n",
        "\n",
        "\n",
        "\n",
        "# Calling the function\n",
        "\n",
        "print(greet(\"Alice\"))\n"
      ],
      "metadata": {
        "colab": {
          "base_uri": "https://localhost:8080/"
        },
        "id": "FqvkuQktFt6d",
        "outputId": "c7602e57-52c1-4173-bfa9-914e156bf854"
      },
      "execution_count": null,
      "outputs": [
        {
          "output_type": "stream",
          "name": "stdout",
          "text": [
            "Hello, Alice!\n"
          ]
        }
      ]
    },
    {
      "cell_type": "code",
      "source": [
        "#2. Function with Default Parameters\n",
        "\n",
        "\n",
        "#You can set default values for parameters. If no argument is passed, the function uses the default values\n",
        "\n",
        "def greet(name=\"Guest\"):\n",
        "\n",
        " return f\"Hello, {name}!\"\n",
        "\n",
        "print(greet()) # Output: \"Hello, Guest!\"\n",
        "\n",
        "print(greet(\"Alice\")) # Output: \"Hello, Alice!\"\n"
      ],
      "metadata": {
        "colab": {
          "base_uri": "https://localhost:8080/"
        },
        "id": "FD0iSbqpF7r8",
        "outputId": "79255f03-bf08-4afc-f251-7a4cf00ef2d0"
      },
      "execution_count": null,
      "outputs": [
        {
          "output_type": "stream",
          "name": "stdout",
          "text": [
            "Hello, Guest!\n",
            "Hello, Alice!\n"
          ]
        }
      ]
    },
    {
      "cell_type": "code",
      "source": [
        "#3.Lambda (Anonymous) Functions\n",
        "\n",
        "#A lambda function is a single-line, anonymous function defined with the lambda keyword, mainly used for short,simple operations.\n",
        "\n",
        "square = lambda x: x ** 2\n",
        "\n",
        "print(square(4)) # Output: 16\n"
      ],
      "metadata": {
        "colab": {
          "base_uri": "https://localhost:8080/"
        },
        "id": "Yi4nYESDGNVF",
        "outputId": "f4e6092b-8ec3-4603-d00e-e6d4a76d60ed"
      },
      "execution_count": null,
      "outputs": [
        {
          "output_type": "stream",
          "name": "stdout",
          "text": [
            "16\n"
          ]
        }
      ]
    },
    {
      "cell_type": "code",
      "source": [
        "#4.Using *args for Variable-Length Positional Arguments\n",
        "#*args allows you to pass a variable number of positional arguments to a function.\n",
        "def add_all(*args):\n",
        "\n",
        " return sum(args)\n",
        "\n",
        "print(add_all(1, 2, 3, 4)) # Output: 10\n"
      ],
      "metadata": {
        "colab": {
          "base_uri": "https://localhost:8080/"
        },
        "id": "PHWbw6OrGi0J",
        "outputId": "6e7ec709-4b79-4fad-c612-63e141c29c88"
      },
      "execution_count": null,
      "outputs": [
        {
          "output_type": "stream",
          "name": "stdout",
          "text": [
            "10\n"
          ]
        }
      ]
    },
    {
      "cell_type": "code",
      "source": [
        "#5 Using **kwargs for Variable-Length Keyword Arguments\n",
        "#**kwargs allows passing a variable number of keyword arguments, which are collected into a dictionary.\n",
        "def print_info(**kwargs):\n",
        "\n",
        " for key, value in kwargs.items():\n",
        "     print(f\"{key}: {value}\")\n",
        "\n",
        "print_info(name=\"Alice\", age=25, city=\"Paris\")\n",
        "\n"
      ],
      "metadata": {
        "colab": {
          "base_uri": "https://localhost:8080/"
        },
        "id": "coXatmuUGqUU",
        "outputId": "ede4bf40-dbf2-412c-8113-1928020fedb4"
      },
      "execution_count": null,
      "outputs": [
        {
          "output_type": "stream",
          "name": "stdout",
          "text": [
            "name: Alice\n",
            "age: 25\n",
            "city: Paris\n"
          ]
        }
      ]
    },
    {
      "cell_type": "code",
      "source": [
        "#6.Calling Functions as Arguments\n",
        "#You can pass functions as arguments to other functions, which is common in higher-order functions.\n",
        "def apply_func(func, value):\n",
        "\n",
        " return func(value)\n",
        "\n",
        "def square(x):\n",
        "\n",
        " return x ** 2\n",
        "\n",
        "print(apply_func(square, 5)) # Output: 25\n"
      ],
      "metadata": {
        "colab": {
          "base_uri": "https://localhost:8080/"
        },
        "id": "xE6_JBloG2gh",
        "outputId": "54b66a5f-f387-4acd-9fec-c14449642782"
      },
      "execution_count": null,
      "outputs": [
        {
          "output_type": "stream",
          "name": "stdout",
          "text": [
            "25\n"
          ]
        }
      ]
    },
    {
      "cell_type": "code",
      "source": [
        "#7.Calling Functions Recursively\n",
        "#A function can call itself, which is known as recursion. This is useful for problems like calculating factorials or traversing data structures.\n",
        "\n",
        "def factorial(n):\n",
        "\n",
        " if n == 1:\n",
        "    return 1\n",
        "\n",
        " return n * factorial(n - 1)\n",
        "\n",
        "print(factorial(5)) # Output: 120\n"
      ],
      "metadata": {
        "colab": {
          "base_uri": "https://localhost:8080/"
        },
        "id": "vknt8Cc_G8sR",
        "outputId": "7abac5c3-80e6-40c7-a4ae-31eb3dcdfa0b"
      },
      "execution_count": null,
      "outputs": [
        {
          "output_type": "stream",
          "name": "stdout",
          "text": [
            "120\n"
          ]
        }
      ]
    },
    {
      "cell_type": "code",
      "source": [
        "#8.Using map with Lambda or Regular Functions\n",
        "#You can use map with functions to apply a function over\n",
        "def square(x):\n",
        "\n",
        " return x ** 2\n",
        "\n",
        "numbers = [1, 2, 3, 4]\n",
        "\n",
        "squared_numbers = list(map(square, numbers))\n",
        "\n",
        "print(squared_numbers) # Output: [1, 4, 9, 16]\n"
      ],
      "metadata": {
        "colab": {
          "base_uri": "https://localhost:8080/"
        },
        "id": "OPZtV3ffHBtZ",
        "outputId": "b28c3123-81d2-40ae-a183-f364efa83477"
      },
      "execution_count": null,
      "outputs": [
        {
          "output_type": "stream",
          "name": "stdout",
          "text": [
            "[1, 4, 9, 16]\n"
          ]
        }
      ]
    },
    {
      "cell_type": "markdown",
      "source": [
        "Question 4: What is the purpose of return statement in python function?\n",
        "\n",
        "Answer: The main purposes of the return statement are:$\n",
        "2 Provide Output: It enables the function to pass data back to the code that called it, making the function\n",
        "useful for calculations, transformations, and data retrieval.$\n",
        "2 End Function Execution: When Python encounters a return statement, it immediately exits the function,\n",
        "skipping any remaining code in the function body.$\n",
        "2 Allow Reusability: By returning values, functions can be reused in different parts of a program, enabling\n",
        "modular and efficient code.\n",
        "\n",
        "If no return statement is used, the function returns None by default, meaning it does not send any specific\n",
        "output back."
      ],
      "metadata": {
        "id": "Yx0uSFHYH9JH"
      }
    },
    {
      "cell_type": "markdown",
      "source": [
        "Question 5: What are iterators in python and how do they differ from iterables?\n",
        "\n",
        "Answer: In Python, iterators and iterables are both fundamental concepts for handling data sequences, but\n",
        "they serve different roles. Here’s an explanation of each and how they differ:\n",
        "\n",
        "\n",
        "1. Iterables\n",
        " An iterable is any Python object capable of returning its members one at a time, making it usable in a for\n",
        "loop or with other iteration tools like map, filter, and list comprehensions.$\n",
        " Common examples of iterables include data structures like lists, tuples, dictionaries, sets, and strings. These\n",
        "objects have an __iter__() method, which allows them to return an iterator when needed.$\n",
        " Essentially, if an object can be looped over, it’s considered an iterable.\n",
        " 2. Iterators\n",
        " An iterator is a special object that enables Python to fetch items from an iterable one at a time.\n",
        " You can get an iterator from an iterable by calling iter() on it. The iterator itself has a __next__() method,\n",
        "which returns the next item from the sequence each time it’s called. Once the items are exhausted,__next__() raises a StopIteration exception\n",
        "\n",
        "Iterators are stateful, meaning they remember where they are in the iteration process. They’re also \"lazy,\" as\n",
        "they fetch elements only when requested, which is useful for working with large or even infinite sequences.\n",
        "\n",
        "\n"
      ],
      "metadata": {
        "id": "Iih2MdsQH-mW"
      }
    },
    {
      "cell_type": "code",
      "source": [
        "numbers = [1, 2, 3] # Iterables\n",
        "for num in numbers:\n",
        "\n",
        " print(num)\n"
      ],
      "metadata": {
        "colab": {
          "base_uri": "https://localhost:8080/"
        },
        "id": "VYIlA75wIjxj",
        "outputId": "5cf21c8c-4caf-4aea-b1a8-49231d3a0bb2"
      },
      "execution_count": null,
      "outputs": [
        {
          "output_type": "stream",
          "name": "stdout",
          "text": [
            "1\n",
            "2\n",
            "3\n"
          ]
        }
      ]
    },
    {
      "cell_type": "code",
      "source": [
        "numbers = [1, 2, 3]\n",
        "\n",
        "iterator = iter(numbers) # `iterator` is now an iterator\n",
        "\n",
        "\n",
        "\n",
        "print(next(iterator)) # Output: 1\n",
        "\n",
        "print(next(iterator)) # Output: 2\n",
        "\n",
        "print(next(iterator)) # Output: 3\n"
      ],
      "metadata": {
        "colab": {
          "base_uri": "https://localhost:8080/"
        },
        "id": "n3CSD_slIvbR",
        "outputId": "841b068f-e7f7-451c-d7c0-ae53898c4db4"
      },
      "execution_count": null,
      "outputs": [
        {
          "output_type": "stream",
          "name": "stdout",
          "text": [
            "1\n",
            "2\n",
            "3\n"
          ]
        }
      ]
    },
    {
      "cell_type": "markdown",
      "source": [
        "Question 6: Explain the concept of generators in python and how they are defined?\n",
        "Answer: In Python, generators are a special type of iterator that allow you to iterate over data without storing\n",
        "the entire sequence in memory at once. They provide an efficient way to handle large datasets or streams of\n",
        "data by generating values one at a time, only when needed. Generators are especially useful in scenarios\n",
        "where you don’t need all the data at once, like reading lines from a file or generating an infinite sequence of\n",
        "numbers.\n",
        "\n",
        "\n",
        "Generators are defined using either:\n",
        " Generator Functions: Functions that use the yield keyword instead of return.\n",
        "Generator Expressions: Similar to list comprehensions, but using parentheses () instead of square brackets[].\n",
        "\n",
        "\n",
        "\n",
        "1. Generator Functions\n",
        "\n",
        "A generator function is defined like a regular function but includes the yield keyword. Each time yield is\n",
        "encountered, the function pauses and yields a value to the caller, resuming on the next next() call. Example:"
      ],
      "metadata": {
        "id": "N-mAps_NI7TN"
      }
    },
    {
      "cell_type": "code",
      "source": [
        "def count_up_to(n):\n",
        "\n",
        " count = 1\n",
        "\n",
        " while count <= n:\n",
        "\n",
        "  yield count # Pauses and yields the current count\n",
        "\n",
        " count += 1\n",
        "\n",
        "counter = count_up_to(3)\n",
        "\n",
        "print(next(counter)) # Output: 1\n",
        "\n",
        "print(next(counter)) # Output: 2\n",
        "\n",
        "print(next(counter)) # Output: 3\n",
        "#In this example, each next() call retrieves the next value in the sequence until the generator is exhausted.\n"
      ],
      "metadata": {
        "colab": {
          "base_uri": "https://localhost:8080/"
        },
        "id": "vyEjnH1yJLja",
        "outputId": "8947b927-45b8-4db1-b454-2c4ec3f9ad34"
      },
      "execution_count": null,
      "outputs": [
        {
          "output_type": "stream",
          "name": "stdout",
          "text": [
            "1\n",
            "1\n",
            "1\n"
          ]
        }
      ]
    },
    {
      "cell_type": "markdown",
      "source": [
        "2. Generator Expressions\n",
        "\n",
        "A generator expression is a concise way to create a generator, similar to list comprehensions but with\n",
        "parentheses. It’s useful for quick, on-the-fly generation of data. Example:\n"
      ],
      "metadata": {
        "id": "RAsvgWRzJZIV"
      }
    },
    {
      "cell_type": "code",
      "source": [
        "# Generator expression for squares of numbers from 1 to 5\n",
        "\n",
        "squares = (x**2 for x in range(1, 6))\n",
        "\n",
        "# Accessing values one by one\n",
        "\n",
        "print(next(squares)) # Output: 1\n",
        "\n",
        "print(next(squares)) # Output: 4\n",
        "\n",
        "print(next(squares)) # Output: 9\n"
      ],
      "metadata": {
        "colab": {
          "base_uri": "https://localhost:8080/"
        },
        "id": "uis54kS9Jasw",
        "outputId": "d0de58a8-2fcc-447d-d292-57f83e3db8ac"
      },
      "execution_count": null,
      "outputs": [
        {
          "output_type": "stream",
          "name": "stdout",
          "text": [
            "1\n",
            "4\n",
            "9\n"
          ]
        }
      ]
    },
    {
      "cell_type": "markdown",
      "source": [],
      "metadata": {
        "id": "RO9PurPYJjaQ"
      }
    },
    {
      "cell_type": "markdown",
      "source": [
        "Question 7: What are the advantages of using generators over regular function?\n",
        "\n",
        "\n",
        "Advantages of Generators\n",
        " Memory Efficiency: They don’t require storing the entire dataset in memory.\n",
        " Improved Performance: Especially when working with large datasets, since they generate items as needed.\n",
        "Simplified Code: Generators make it easy to write iterators without needing to manage the iterator’s state\n",
        "explicitly.\n",
        "Question 8: What is a lambda function in python and when it is typically used?\n",
        "\n",
        "Answer: A lambda function in Python is a small anonymous function defined using the lambda keyword. Unlike\n",
        "regular functions defined with the def keyword, lambda functions are typically used for short, simple operations\n",
        "where the function body is a single expression. They can take any number of arguments but can only have one\n",
        "expression, which is evaluated and returned.\n",
        "Syntax:\n",
        "\n",
        "lambda arguments: expression\n",
        "\n",
        "Where arguments: The input parameters for the function (can be multiple, separated by commas).\n",
        "\n",
        "expression: A single expression that gets evaluated and returned.\n"
      ],
      "metadata": {
        "id": "sETPhw4RJjcT"
      }
    },
    {
      "cell_type": "code",
      "source": [
        "add = lambda x, y: x + y\n",
        "\n",
        "result = add(5, 3) # Output: 8\n"
      ],
      "metadata": {
        "id": "I17b1CvzJ1p3"
      },
      "execution_count": null,
      "outputs": []
    },
    {
      "cell_type": "markdown",
      "source": [
        "Typical Use Cases for Lambda Functions\n",
        "Short Functions: When you need a quick function for a short task that won’t be reused elsewhere, lambda functions provide a concise way to define it inline.\n",
        " Higher-Order Functions: Lambda functions are often used as arguments to higher-order functions\n",
        "(functions that take other functions as arguments). This is common in functions like map(), filter(), and\n",
        "sorted().\n",
        "\n",
        "Question 9: What is the purpose and usage of the map() function in python?\n",
        "\n",
        "Answer: The map() function in Python is a built-in function used to apply a specified function to each item of an iterable (like a list, tuple, or string) and return a map object (which is an iterator). The main purpose of map() is to facilitate functional programming by enabling transformation or computation on iterable elements\n",
        "in a concise and efficient manner.\n",
        "\n",
        "\n",
        "Purpose of map()\n",
        " Transformation: map() is primarily used to transform data in an iterable by applying a function to each\n",
        "element.\n",
        "Efficiency: It can provide performance benefits by avoiding the overhead of explicit loops and supporting lazy evaluation, which means values are produced only as needed."
      ],
      "metadata": {
        "id": "dQTElmgMKDDr"
      }
    },
    {
      "cell_type": "markdown",
      "source": [
        "Question 10: What is the difference between map(), reduce(), and filter() function in python?\n",
        "\n",
        "Aspect\n",
        " map()\n",
        " filter()\n",
        " reduce()\n",
        "\n",
        "\n",
        "Purpose\n",
        " Apply a function to each item\n",
        " Filter items based on a condition\n",
        " Cumulatively apply a function\n",
        "\n",
        "\n",
        "\n",
        "Output\n",
        " New iterable with transformed items\n",
        " New iterable with filtered items\n",
        " Single cumulative value\n",
        "\n",
        "\n",
        "Function Signature\n",
        " Takes a function and an iterable(s)\n",
        " Takes a function and an iterable\n",
        " Takes a function and an iterable\n",
        "\n",
        "Use Case\n",
        " Transforming elements\n",
        " Selecting elements\n",
        " Reducing elements to a single value\n",
        "\n"
      ],
      "metadata": {
        "id": "k4ChuqLoKmRH"
      }
    },
    {
      "cell_type": "markdown",
      "source": [
        "Question 11: Write the internal mechanism of sum operation using reduce function on this given list [47,11,42,13]\n",
        "\n",
        "Answer: Step-by-Step Mechanism of Summation with reduce()\n",
        "\n",
        "\n",
        "Import reduce from functools: First, we need to import the reduce function from the functools module.\n",
        "\n",
        "\n",
        "from functools import reduce\n",
        " Define the Addition Function: We define a function that takes two arguments and returns their sum. This\n",
        "function will be used by reduce() to combine elements in the list"
      ],
      "metadata": {
        "id": "rGXuQZ1aLLDw"
      }
    },
    {
      "cell_type": "code",
      "source": [
        "def add(x, y):\n",
        "\n",
        "  return x + y\n"
      ],
      "metadata": {
        "id": "aO17pVO1LQZt"
      },
      "execution_count": null,
      "outputs": []
    },
    {
      "cell_type": "code",
      "source": [
        "#Initialize the List: We have the list of numbers we want to sum\n",
        "numbers = [47, 11, 42, 13]"
      ],
      "metadata": {
        "id": "ZQ5fcTmeLTmB"
      },
      "execution_count": null,
      "outputs": []
    },
    {
      "cell_type": "markdown",
      "source": [
        " Apply reduce(): We call the reduce() function, passing the addition function and the list of numbers. The reduce() function will apply the addition function cumulatively to the items of the iterable (the list).\n",
        "total = reduce(add, numbers)\n",
        "Internal Mechanism of reduce()\n",
        "\n",
        "Here's how the reduce() function works internally with the provided list:\n",
        "Initial Call:\n",
        "It takes the first two elements of the list: 47 and 11.\n",
        "Calls add(47, 11) which returns 58.\n",
        " Next Call:\n",
        "The result 58 is then combined with the next element in the list: 42. Calls add(58, 42) which returns 100.\n",
        "Final Call :\n",
        " The result 100 is then combined with the last element in the list: 13\n",
        " Calls add(100, 13) which returns 113.\n",
        "\n",
        "\n",
        "Final Result\n",
        "\n",
        "After all the elements have been processed, reduce() returns the final cumulative result.\n",
        "print(total) # Output: 113"
      ],
      "metadata": {
        "id": "_US4WZIBNFiO"
      }
    },
    {
      "cell_type": "code",
      "source": [
        "from functools import reduce\n",
        "\n",
        "# Define the addition function\n",
        "\n",
        "def add(x, y):\n",
        "\n",
        " return x + y\n",
        "\n",
        "# Initialize the list\n",
        "\n",
        "numbers = [47, 11, 42, 13]\n",
        "\n",
        "# Use reduce to sum the numbers\n",
        "\n",
        "total = reduce(add, numbers)\n",
        "\n",
        "# Print the result\n",
        "\n",
        "print(total) # Output: 113\n"
      ],
      "metadata": {
        "colab": {
          "base_uri": "https://localhost:8080/"
        },
        "id": "9WvRBSx0MxQF",
        "outputId": "ea95c09e-a4c5-4341-f4e9-8a8b5179f836"
      },
      "execution_count": null,
      "outputs": [
        {
          "output_type": "stream",
          "name": "stdout",
          "text": [
            "113\n"
          ]
        }
      ]
    },
    {
      "cell_type": "markdown",
      "source": [
        " **Practical Questions **\n",
        "\n",
        " 1: Write a Python function that takes a list of numbers as input and returns the sum of all even numbers in the list."
      ],
      "metadata": {
        "id": "ckQ_Mo4WO_sV"
      }
    },
    {
      "cell_type": "code",
      "source": [
        "def sum_of_even_numbers(numbers):\n",
        "    return sum(num for num in numbers if num % 2 == 0)\n",
        "\n",
        "# Example Usage\n",
        "numbers = [1, 2, 3, 4, 5, 6]\n",
        "print(sum_of_even_numbers(numbers))  # Output: 12"
      ],
      "metadata": {
        "colab": {
          "base_uri": "https://localhost:8080/"
        },
        "id": "lA90SnLBPIQp",
        "outputId": "313932ca-a687-4a58-b737-007a668f8bc7"
      },
      "execution_count": null,
      "outputs": [
        {
          "output_type": "stream",
          "name": "stdout",
          "text": [
            "12\n"
          ]
        }
      ]
    },
    {
      "cell_type": "markdown",
      "source": [
        "2: Create a Python function that accepts a string and returns the reverse of that string."
      ],
      "metadata": {
        "id": "pYLVHgywPI-S"
      }
    },
    {
      "cell_type": "code",
      "source": [
        "def reverse_string(s):\n",
        "    return s[::-1]\n",
        "# Example Usage\n",
        "text = \"Hello, world!\"\n",
        "print(reverse_string(text))  # Output: !dlrow ,olleH\n"
      ],
      "metadata": {
        "colab": {
          "base_uri": "https://localhost:8080/"
        },
        "id": "a-CBG4MhPO6P",
        "outputId": "b63b2c48-2fd9-4e04-ceed-e3d89db2a689"
      },
      "execution_count": null,
      "outputs": [
        {
          "output_type": "stream",
          "name": "stdout",
          "text": [
            "!dlrow ,olleH\n"
          ]
        }
      ]
    },
    {
      "cell_type": "markdown",
      "source": [
        " 3 : Implement a Python function that takes a list of integers and returns a new list containing the squares of each number."
      ],
      "metadata": {
        "id": "DxflozcLPPMu"
      }
    },
    {
      "cell_type": "code",
      "source": [
        "def square_numbers(numbers):\n",
        "    return [num ** 2 for num in numbers]\n",
        "\n",
        "# Example Usage\n",
        "numbers = [1, 2, 3, 4, 5]\n",
        "print(square_numbers(numbers))  # Output: [1, 4, 9, 16, 25]\n"
      ],
      "metadata": {
        "colab": {
          "base_uri": "https://localhost:8080/"
        },
        "id": "af6oCmrDPUoj",
        "outputId": "615e738d-2c8b-43cf-b6f6-b3bae211837a"
      },
      "execution_count": null,
      "outputs": [
        {
          "output_type": "stream",
          "name": "stdout",
          "text": [
            "[1, 4, 9, 16, 25]\n"
          ]
        }
      ]
    },
    {
      "cell_type": "markdown",
      "source": [
        " 4: Write a Python function that checks if a given number is prime or not from 1 to 200."
      ],
      "metadata": {
        "id": "GgPsF8JEPU8r"
      }
    },
    {
      "cell_type": "code",
      "source": [
        "a = range(1, 201)\n",
        "b = filter(lambda c: all(c % i != 0 for i in range(2, int(c**0.5) + 1)), a)\n",
        "print(list(b))\n",
        "print(\"ok\")\n",
        "\n"
      ],
      "metadata": {
        "colab": {
          "base_uri": "https://localhost:8080/"
        },
        "id": "rlZrveWZPYzv",
        "outputId": "1638358b-64b5-49d5-9a82-0a40c4a6ce4d"
      },
      "execution_count": null,
      "outputs": [
        {
          "output_type": "stream",
          "name": "stdout",
          "text": [
            "[1, 2, 3, 5, 7, 11, 13, 17, 19, 23, 29, 31, 37, 41, 43, 47, 53, 59, 61, 67, 71, 73, 79, 83, 89, 97, 101, 103, 107, 109, 113, 127, 131, 137, 139, 149, 151, 157, 163, 167, 173, 179, 181, 191, 193, 197, 199]\n",
            "ok\n"
          ]
        }
      ]
    },
    {
      "cell_type": "markdown",
      "source": [
        "5: Create an iterator class in Python that generates the Fibonacci sequence up to a specified number of terms."
      ],
      "metadata": {
        "id": "NwdlLyuBPZMv"
      }
    },
    {
      "cell_type": "code",
      "source": [
        "class Fibonacci:\n",
        "    def __init__(self, terms):\n",
        "        self.terms = terms\n",
        "        self.current = 0\n",
        "        self.next = 1\n",
        "        self.index = 0\n",
        "    def __iter__(self):\n",
        "        return self\n",
        "    def __next__(self):\n",
        "        if self.index >= self.terms:\n",
        "            raise StopIteration\n",
        "        result = self.current\n",
        "        self.current, self.next = self.next, self.current + self.next\n",
        "        self.index += 1\n",
        "        return result\n",
        "# Example Usage\n",
        "fib = Fibonacci(10)\n",
        "for num in fib:\n",
        "    print(num, end=' ')\n"
      ],
      "metadata": {
        "colab": {
          "base_uri": "https://localhost:8080/"
        },
        "id": "zy5HSE09PckY",
        "outputId": "3b95f593-59f3-4cec-b382-229104fd66f0"
      },
      "execution_count": null,
      "outputs": [
        {
          "output_type": "stream",
          "name": "stdout",
          "text": [
            "0 1 1 2 3 5 8 13 21 34 "
          ]
        }
      ]
    },
    {
      "cell_type": "markdown",
      "source": [
        "6: Write a generator function in Python that yields the powers of 2 up to a given exponent."
      ],
      "metadata": {
        "id": "IHsr-m4EPc86"
      }
    },
    {
      "cell_type": "code",
      "source": [
        "def powers_of_2(limit):\n",
        "    for i in range(limit + 1):\n",
        "        yield 2 ** i\n",
        "# Example Usage\n",
        "for power in powers_of_2(5):\n",
        "    print(power)\n"
      ],
      "metadata": {
        "colab": {
          "base_uri": "https://localhost:8080/"
        },
        "id": "PjjvpMW7Pgzj",
        "outputId": "7d903105-9d83-4020-a170-21cb8760bbdc"
      },
      "execution_count": null,
      "outputs": [
        {
          "output_type": "stream",
          "name": "stdout",
          "text": [
            "1\n",
            "2\n",
            "4\n",
            "8\n",
            "16\n",
            "32\n"
          ]
        }
      ]
    },
    {
      "cell_type": "markdown",
      "source": [
        " 7: Implement a generator function that reads a file line by line and yields each line as a string."
      ],
      "metadata": {
        "id": "661m3t7_PhIN"
      }
    },
    {
      "cell_type": "code",
      "source": [
        "def read_file_line_by_line(filename):\n",
        "    with open(filename, 'r') as file:\n",
        "        for line in file:\n",
        "            yield line.strip()\n",
        "# Example Usage\n",
        "# for line in read_file_line_by_line('example.txt'):\n",
        "#     print(line)\n"
      ],
      "metadata": {
        "id": "VESd_-kDPkmO"
      },
      "execution_count": null,
      "outputs": []
    },
    {
      "cell_type": "markdown",
      "source": [
        "8: Use a lambda function in Python to sort a list of tuples based on the second element of each tuple."
      ],
      "metadata": {
        "id": "y7yX6Ae2Pk7o"
      }
    },
    {
      "cell_type": "code",
      "source": [
        "tuples_list = [(1, 3), (4, 2), (2, 5), (3, 1)]\n",
        "sorted_tuples = sorted(tuples_list, key=lambda x: x[1])\n",
        "print(sorted_tuples)  # Output: [(3, 1), (4, 2), (1, 3), (2, 5)]"
      ],
      "metadata": {
        "colab": {
          "base_uri": "https://localhost:8080/"
        },
        "id": "wNOTcelnPrXV",
        "outputId": "9c41207c-61d9-4fa6-dc61-9c0a55e67da6"
      },
      "execution_count": null,
      "outputs": [
        {
          "output_type": "stream",
          "name": "stdout",
          "text": [
            "[(3, 1), (4, 2), (1, 3), (2, 5)]\n"
          ]
        }
      ]
    },
    {
      "cell_type": "markdown",
      "source": [
        "9: Write a Python program that uses map() to convert a list of temperatures from Celsius to Fahrenheit."
      ],
      "metadata": {
        "id": "v9LI2kxIPrsg"
      }
    },
    {
      "cell_type": "code",
      "source": [
        "def celsius_to_fahrenheit(celsius_list):\n",
        "    return list(map(lambda c: (c * 9/5) + 32, celsius_list))\n",
        "# Example Usage\n",
        "celsius = [0, 20, 37, 100]\n",
        "fahrenheit = celsius_to_fahrenheit(celsius)\n",
        "print(fahrenheit)  # Output: [32.0, 68.0, 98.6, 212.0]\n"
      ],
      "metadata": {
        "colab": {
          "base_uri": "https://localhost:8080/"
        },
        "id": "uc0-RMP5Psef",
        "outputId": "544f1a54-8ff2-495c-b4b9-27f4d82636cd"
      },
      "execution_count": null,
      "outputs": [
        {
          "output_type": "stream",
          "name": "stdout",
          "text": [
            "[32.0, 68.0, 98.6, 212.0]\n"
          ]
        }
      ]
    },
    {
      "cell_type": "markdown",
      "source": [
        "10: Create a Python program that uses filter() to remove all the vowels from a given string."
      ],
      "metadata": {
        "id": "RgpEwB57Ps4J"
      }
    },
    {
      "cell_type": "code",
      "source": [
        "def remove_vowels(string):\n",
        "    return ''.join(filter(lambda char: char.lower() not in 'aeiou', string))\n",
        "# Example Usage\n",
        "text = \"Hello World\"\n",
        "print(remove_vowels(text))  # Output: \"Hll Wrld\"\n"
      ],
      "metadata": {
        "colab": {
          "base_uri": "https://localhost:8080/"
        },
        "id": "zYMiZfUQPyNu",
        "outputId": "67ba1fd7-afa0-400e-b00d-d41f5db617ff"
      },
      "execution_count": null,
      "outputs": [
        {
          "output_type": "stream",
          "name": "stdout",
          "text": [
            "Hll Wrld\n"
          ]
        }
      ]
    },
    {
      "cell_type": "markdown",
      "source": [
        "11: Imagine an accounting routine used in a book shop. It works on a list with sublists, which look like this: Write a Python program, which returns a list with 2-tuples. Each tuple consists of the order number and the product of the price per item and the quantity. The product should be increased by 10,- € if the value of the order is smaller than 100,00 €.\n",
        "\n",
        "Write a Python program using lambda and map."
      ],
      "metadata": {
        "id": "2onXC-gbPygZ"
      }
    },
    {
      "cell_type": "code",
      "source": [
        "orders = [\n",
        "    [101, 4,40.00],\n",
        "    [202, 5, 56.80],\n",
        "    [302, 3, 32.95],\n",
        "    [402, 3, 24.99],\n",
        "]\n",
        "def calculate_order(order):\n",
        "    order_number, price_per_item, quantity = order\n",
        "    total_price = price_per_item * quantity\n",
        "    if total_price < 100:\n",
        "        total_price += 10\n",
        "    return (order_number, total_price)\n",
        "result = list(map(lambda order: calculate_order(order), orders))\n",
        "\n",
        "print(result)"
      ],
      "metadata": {
        "id": "_uZBqpXIT1DL",
        "outputId": "42f65dff-6d8d-44ae-afa9-1191082e83b9",
        "colab": {
          "base_uri": "https://localhost:8080/"
        }
      },
      "execution_count": null,
      "outputs": [
        {
          "output_type": "stream",
          "name": "stdout",
          "text": [
            "[(101, 160.0), (202, 284.0), (302, 108.85000000000001), (402, 84.97)]\n"
          ]
        }
      ]
    }
  ]
}